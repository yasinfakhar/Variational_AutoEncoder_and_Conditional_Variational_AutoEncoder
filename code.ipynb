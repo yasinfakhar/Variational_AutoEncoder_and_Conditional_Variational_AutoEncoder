{
 "cells": [
  {
   "cell_type": "markdown",
   "id": "4254eb65",
   "metadata": {},
   "source": [
    "# Variational AutoEncoder\n",
    "## creating the model"
   ]
  },
  {
   "cell_type": "code",
   "execution_count": 60,
   "id": "b9a75491",
   "metadata": {},
   "outputs": [
    {
     "name": "stdout",
     "output_type": "stream",
     "text": [
      "torch.Size([4, 784])\n",
      "torch.Size([4, 20])\n",
      "torch.Size([4, 20])\n"
     ]
    }
   ],
   "source": [
    "import torch\n",
    "from torch import nn\n",
    "\n",
    "class VariationalAutoEncoder(nn.Module):\n",
    "    def __init__(self, input_dim, h_dim=200, z_dim=20):\n",
    "        super().__init__()\n",
    "        \n",
    "        # encoder\n",
    "        self.img_2hid = nn.Linear(input_dim, h_dim)\n",
    "        self.hid_2mu = nn.Linear(h_dim, z_dim)\n",
    "        self.hid_2sigma = nn.Linear(h_dim, z_dim)\n",
    "\n",
    "        # decoder\n",
    "        self.z_2hid = nn.Linear(z_dim, h_dim)\n",
    "        self.hid_2img = nn.Linear(h_dim, input_dim)\n",
    "\n",
    "        self.relu = nn.ReLU()\n",
    "\n",
    "    def encode(self, x):\n",
    "        h = self.relu(self.img_2hid(x))\n",
    "        mu, sigma = self.hid_2mu(h), self.hid_2sigma(h)\n",
    "        return mu, sigma\n",
    "\n",
    "    def decode(self, z):\n",
    "        h = self.relu(self.z_2hid(z))\n",
    "        return torch.sigmoid(self.hid_2img(h))\n",
    "\n",
    "    def forward(self, x):\n",
    "        mu, sigma = self.encode(x)\n",
    "        epsilon = torch.randn_like(sigma)\n",
    "        z_new = mu + sigma*epsilon\n",
    "        x_reconstructed = self.decode(z_new)\n",
    "        \n",
    "        self.mu = mu\n",
    "        self.sigma = sigma\n",
    "        \n",
    "        return x_reconstructed, mu, sigma\n",
    "\n",
    "\n",
    "if __name__ == \"__main__\":\n",
    "    x = torch.randn(4, 28*28)\n",
    "    vae = VariationalAutoEncoder(input_dim=784)\n",
    "    x_reconstructed, mu, sigma = vae(x)\n",
    "    print(x_reconstructed.shape)\n",
    "    print(mu.shape)\n",
    "    print(sigma.shape)"
   ]
  },
  {
   "cell_type": "markdown",
   "id": "214895b8",
   "metadata": {},
   "source": [
    "# train"
   ]
  },
  {
   "cell_type": "code",
   "execution_count": 62,
   "id": "92f46915",
   "metadata": {},
   "outputs": [],
   "source": [
    "import torch\n",
    "import torchvision.datasets as datasets  # Standard datasets\n",
    "from tqdm import tqdm\n",
    "from torch import nn, optim\n",
    "from torchvision import transforms\n",
    "from torchvision.utils import save_image\n",
    "from torch.utils.data import DataLoader\n",
    "\n",
    "# Configuration\n",
    "DEVICE = torch.device(\"cuda\" if torch.cuda.is_available() else \"cpu\")\n",
    "INPUT_DIM = 784\n",
    "H_DIM = 200\n",
    "Z_DIM = 20\n",
    "NUM_EPOCHS = 10\n",
    "BATCH_SIZE = 32\n",
    "LR_RATE = 2e-4  # Karpathy constant"
   ]
  },
  {
   "cell_type": "code",
   "execution_count": 63,
   "id": "82702a7a",
   "metadata": {},
   "outputs": [],
   "source": [
    "# Dataset Loading\n",
    "dataset = datasets.MNIST(root=\"dataset/\", train=True, transform=transforms.ToTensor(), download=True)\n",
    "train_loader = DataLoader(dataset=dataset, batch_size=BATCH_SIZE, shuffle=True)\n",
    "model = VariationalAutoEncoder(INPUT_DIM, H_DIM, Z_DIM).to(DEVICE)\n",
    "optimizer = optim.Adam(model.parameters(), lr=LR_RATE)\n",
    "loss_fn = nn.BCELoss(reduction=\"sum\")"
   ]
  },
  {
   "cell_type": "code",
   "execution_count": 2,
   "id": "0eb7a855",
   "metadata": {},
   "outputs": [
    {
     "name": "stderr",
     "output_type": "stream",
     "text": [
      "1875it [00:26, 71.08it/s, loss=5.65e+3]\n",
      "1875it [00:26, 70.60it/s, loss=5.08e+3]\n",
      "1875it [00:26, 70.79it/s, loss=4.88e+3]\n",
      "1875it [00:26, 71.30it/s, loss=4.56e+3]\n",
      "1875it [00:26, 71.02it/s, loss=4.36e+3]\n",
      "1875it [00:26, 70.80it/s, loss=4.22e+3]\n",
      "1875it [00:26, 70.53it/s, loss=4.52e+3]\n",
      "1875it [00:27, 68.53it/s, loss=4.25e+3]\n",
      "1875it [00:26, 70.13it/s, loss=4.28e+3]\n",
      "1875it [00:26, 70.46it/s, loss=4.07e+3]\n"
     ]
    }
   ],
   "source": [
    "# Start Training\n",
    "for epoch in range(NUM_EPOCHS):\n",
    "    loop = tqdm(enumerate(train_loader))\n",
    "    for i, (x, _) in loop:\n",
    "        # Forward pass\n",
    "        x = x.to(DEVICE).view(x.shape[0], INPUT_DIM)\n",
    "        x_reconstructed, mu, sigma = model(x)\n",
    "\n",
    "        # Compute loss\n",
    "        reconstruction_loss = loss_fn(x_reconstructed, x)\n",
    "        kl_div = -torch.sum(1 + torch.log(sigma.pow(2)) - mu.pow(2) - sigma.pow(2))\n",
    "\n",
    "        # Backprop\n",
    "        loss = reconstruction_loss + kl_div\n",
    "        optimizer.zero_grad()\n",
    "        loss.backward()\n",
    "        optimizer.step()\n",
    "        loop.set_postfix(loss=loss.item())\n",
    "    \n",
    "torch.save(model.state_dict(), \"VAE_model.pt\")"
   ]
  },
  {
   "cell_type": "markdown",
   "id": "8b882334",
   "metadata": {},
   "source": [
    "## loading the pretrained model"
   ]
  },
  {
   "cell_type": "code",
   "execution_count": 64,
   "id": "1a8743f6",
   "metadata": {},
   "outputs": [
    {
     "data": {
      "text/plain": [
       "<All keys matched successfully>"
      ]
     },
     "execution_count": 64,
     "metadata": {},
     "output_type": "execute_result"
    }
   ],
   "source": [
    "model = VariationalAutoEncoder(INPUT_DIM, H_DIM, Z_DIM).to(DEVICE)\n",
    "model.load_state_dict(torch.load(\"VAE_model.pt\"))"
   ]
  },
  {
   "cell_type": "markdown",
   "id": "49a78db8",
   "metadata": {},
   "source": [
    "# test"
   ]
  },
  {
   "cell_type": "code",
   "execution_count": 65,
   "id": "f360a206",
   "metadata": {},
   "outputs": [],
   "source": [
    "images = []\n",
    "idx = 0\n",
    "for x, y in dataset:\n",
    "    if y == idx:\n",
    "        images.append(x)\n",
    "        idx += 1\n",
    "        if idx == 10:\n",
    "            break"
   ]
  },
  {
   "cell_type": "code",
   "execution_count": 66,
   "id": "7a22715a",
   "metadata": {},
   "outputs": [
    {
     "name": "stdout",
     "output_type": "stream",
     "text": [
      "which number you want to generate ? 2\n"
     ]
    },
    {
     "data": {
      "image/png": "[encoded data removed]",
      "text/plain": [
       "<Figure size 640x480 with 1 Axes>"
      ]
     },
     "metadata": {},
     "output_type": "display_data"
    }
   ],
   "source": [
    "import matplotlib.pyplot as plt\n",
    "\n",
    "num_input = int(input('which number you want to generate ? '))\n",
    "model = model.to(\"cpu\")\n",
    "with torch.no_grad():\n",
    "    mu, sigma = model.encode(images[num_input].view(1, 784))\n",
    "epsilon = torch.randn_like(sigma)\n",
    "z = mu + sigma * epsilon\n",
    "out = model.decode(z)\n",
    "out = out.view(-1, 1, 28, 28)\n",
    "plt.imshow(out.cpu().detach()[0][0] , cmap = \"gray\")\n",
    "plt.show()"
   ]
  },
  {
   "cell_type": "markdown",
   "id": "4b126ad3",
   "metadata": {},
   "source": [
    "# Conditional Variational Autoencoder"
   ]
  },
  {
   "cell_type": "markdown",
   "id": "5bc27f1a",
   "metadata": {},
   "source": [
    "## creating the model"
   ]
  },
  {
   "cell_type": "code",
   "execution_count": 68,
   "id": "335e3273",
   "metadata": {},
   "outputs": [
    {
     "name": "stdout",
     "output_type": "stream",
     "text": [
      "torch.Size([4, 794])\n",
      "torch.Size([4, 20])\n",
      "torch.Size([4, 20])\n"
     ]
    }
   ],
   "source": [
    "import torch\n",
    "from torch import nn\n",
    "import torch.nn.functional as F\n",
    "\n",
    "class ConditionalVariationalAutoEncoder(nn.Module):\n",
    "    def __init__(self, input_dim, h_dim=200, z_dim=20, n_classes=10):\n",
    "        super().__init__()\n",
    "        \n",
    "        # encoder\n",
    "        self.img_2hid = nn.Linear(input_dim + n_classes, h_dim)\n",
    "        self.hid_2mu = nn.Linear(h_dim, z_dim)\n",
    "        self.hid_2sigma = nn.Linear(h_dim, z_dim)\n",
    "\n",
    "        # decoder\n",
    "        self.z_2hid = nn.Linear(z_dim + n_classes, h_dim)\n",
    "        self.hid_2img = nn.Linear(h_dim, input_dim)\n",
    "\n",
    "        self.relu = nn.ReLU()\n",
    "\n",
    "    def encode(self, x):\n",
    "        h = self.relu(self.img_2hid(x))\n",
    "        mu, sigma = self.hid_2mu(h), self.hid_2sigma(h)\n",
    "        return mu, sigma\n",
    "\n",
    "    def decode(self, z):\n",
    "        h = self.relu(self.z_2hid(z))\n",
    "        return torch.sigmoid(self.hid_2img(h))\n",
    "\n",
    "    def forward(self, x , condition):\n",
    "        x_with_condition = torch.cat((x, condition), 1) \n",
    "        mu, sigma = self.encode(x_with_condition)\n",
    "        epsilon = torch.randn_like(sigma)\n",
    "        z_new = mu + sigma*epsilon\n",
    "        z_with_condition = torch.cat((z_new, condition), 1) \n",
    "        x_reconstructed = self.decode(z_with_condition)\n",
    "        \n",
    "        self.mu = mu\n",
    "        self.sigma = sigma\n",
    "        \n",
    "        return x_reconstructed, mu, sigma\n",
    "\n",
    "\n",
    "if __name__ == \"__main__\":\n",
    "    x = torch.randn(4, 28*28 + 10)\n",
    "    cvae = ConditionalVariationalAutoEncoder(input_dim=28*28 + 10)\n",
    "    condition = F.one_hot(torch.arange(0, 4), num_classes=10)\n",
    "    x_reconstructed, mu, sigma = cvae(x,condition)\n",
    "    print(x_reconstructed.shape)\n",
    "    print(mu.shape)\n",
    "    print(sigma.shape)"
   ]
  },
  {
   "cell_type": "markdown",
   "id": "0978cde6",
   "metadata": {},
   "source": [
    "## train"
   ]
  },
  {
   "cell_type": "code",
   "execution_count": 69,
   "id": "46845403",
   "metadata": {},
   "outputs": [],
   "source": [
    "import torch\n",
    "import torchvision.datasets as datasets  # Standard datasets\n",
    "from tqdm import tqdm\n",
    "from torch import nn, optim\n",
    "from torchvision import transforms\n",
    "from torchvision.utils import save_image\n",
    "from torch.utils.data import DataLoader\n",
    "\n",
    "# Configuration\n",
    "DEVICE = torch.device(\"cuda\" if torch.cuda.is_available() else \"cpu\")\n",
    "INPUT_DIM = 28*28\n",
    "H_DIM = 200\n",
    "Z_DIM = 20\n",
    "NUM_EPOCHS = 10\n",
    "BATCH_SIZE = 32\n",
    "NUM_CLASSES = 10\n",
    "LR_RATE = 2e-4  # Karpathy constant"
   ]
  },
  {
   "cell_type": "code",
   "execution_count": 70,
   "id": "1ec01e02",
   "metadata": {},
   "outputs": [],
   "source": [
    "# Dataset Loading\n",
    "dataset = datasets.MNIST(root=\"dataset/\", train=True, transform=transforms.ToTensor(), download=True)\n",
    "train_loader = DataLoader(dataset=dataset, batch_size=BATCH_SIZE, shuffle=True)\n",
    "model = ConditionalVariationalAutoEncoder(INPUT_DIM, H_DIM, Z_DIM, NUM_CLASSES).to(DEVICE)\n",
    "optimizer = optim.Adam(model.parameters(), lr=LR_RATE)\n",
    "loss_fn = nn.BCELoss(reduction=\"sum\")"
   ]
  },
  {
   "cell_type": "code",
   "execution_count": 29,
   "id": "23ccf24e",
   "metadata": {},
   "outputs": [
    {
     "name": "stderr",
     "output_type": "stream",
     "text": [
      "1875it [00:39, 47.33it/s, loss=5.28e+3]\n",
      "1875it [00:41, 45.42it/s, loss=5.1e+3] \n",
      "1875it [00:40, 45.81it/s, loss=4.72e+3]\n",
      "1875it [00:41, 45.69it/s, loss=4.15e+3]\n",
      "1875it [00:40, 46.68it/s, loss=4.27e+3]\n",
      "1875it [00:38, 48.46it/s, loss=4.2e+3] \n",
      "1875it [00:40, 45.91it/s, loss=4.02e+3]\n",
      "1875it [00:39, 47.78it/s, loss=3.85e+3]\n",
      "1875it [00:38, 48.25it/s, loss=3.6e+3] \n",
      "1875it [00:39, 47.92it/s, loss=3.89e+3]\n"
     ]
    }
   ],
   "source": [
    "# Start Training\n",
    "for epoch in range(NUM_EPOCHS):\n",
    "    loop = tqdm(enumerate(train_loader))\n",
    "    for i, (x, y) in loop:\n",
    "        # Forward pass\n",
    "        x = x.to(DEVICE).view(x.shape[0], INPUT_DIM)\n",
    "        condition = F.one_hot(y, num_classes=10).to(DEVICE)\n",
    "        x_reconstructed, mu, sigma = model(x , condition)\n",
    "\n",
    "        # Compute loss\n",
    "        reconstruction_loss = loss_fn(x_reconstructed, x)\n",
    "        kl_div = -torch.sum(1 + torch.log(sigma.pow(2)) - mu.pow(2) - sigma.pow(2))\n",
    "\n",
    "        # Backprop\n",
    "        loss = reconstruction_loss + kl_div\n",
    "        optimizer.zero_grad()\n",
    "        loss.backward()\n",
    "        optimizer.step()\n",
    "        loop.set_postfix(loss=loss.item())\n",
    "    \n",
    "torch.save(model.state_dict(), \"CVAE_model.pt\")"
   ]
  },
  {
   "cell_type": "markdown",
   "id": "e8524ffb",
   "metadata": {},
   "source": [
    "## loading the pretrained model"
   ]
  },
  {
   "cell_type": "code",
   "execution_count": 71,
   "id": "374c56fb",
   "metadata": {},
   "outputs": [
    {
     "data": {
      "text/plain": [
       "<All keys matched successfully>"
      ]
     },
     "execution_count": 71,
     "metadata": {},
     "output_type": "execute_result"
    }
   ],
   "source": [
    "model = ConditionalVariationalAutoEncoder(INPUT_DIM, H_DIM, Z_DIM, NUM_CLASSES).to(DEVICE)\n",
    "model.load_state_dict(torch.load(\"CVAE_model.pt\"))"
   ]
  },
  {
   "cell_type": "markdown",
   "id": "603e08f1",
   "metadata": {},
   "source": [
    "## test"
   ]
  },
  {
   "cell_type": "code",
   "execution_count": 72,
   "id": "9910353b",
   "metadata": {},
   "outputs": [],
   "source": [
    "images = []\n",
    "idx = 0\n",
    "for x, y in dataset:\n",
    "    if y == idx:\n",
    "        images.append(x)\n",
    "        idx += 1\n",
    "        if idx == 10:\n",
    "            break"
   ]
  },
  {
   "cell_type": "code",
   "execution_count": 74,
   "id": "03ebd29a",
   "metadata": {},
   "outputs": [
    {
     "name": "stdout",
     "output_type": "stream",
     "text": [
      "which number you want to generate ? 3\n"
     ]
    },
    {
     "data": {
      "image/png": "[encoded data removed]",
      "text/plain": [
       "<Figure size 640x480 with 1 Axes>"
      ]
     },
     "metadata": {},
     "output_type": "display_data"
    }
   ],
   "source": [
    "import matplotlib.pyplot as plt\n",
    "\n",
    "num_input = int(input('which number you want to generate ? '))\n",
    "model = model.to(\"cpu\")\n",
    "with torch.no_grad():\n",
    "    condition = F.one_hot(torch.Tensor([num_input]).to(torch.int64), num_classes=10)\n",
    "    x = images[num_input].view(1, INPUT_DIM)\n",
    "    x_with_condition = torch.cat((x, condition), 1)\n",
    "    mu, sigma = model.encode(x_with_condition)\n",
    "epsilon = torch.randn_like(sigma)\n",
    "z = mu + sigma * epsilon\n",
    "z_with_condition = torch.cat((z, condition), 1)\n",
    "out = model.decode(z_with_condition)\n",
    "out = out.view(-1, 1, 28, 28)\n",
    "plt.imshow(out.cpu().detach()[0][0] , cmap = \"gray\")\n",
    "plt.show()"
   ]
  }
 ],
 "metadata": {
  "kernelspec": {
   "display_name": "Python 3 (ipykernel)",
   "language": "python",
   "name": "python3"
  },
  "language_info": {
   "codemirror_mode": {
    "name": "ipython",
    "version": 3
   },
   "file_extension": ".py",
   "mimetype": "text/x-python",
   "name": "python",
   "nbconvert_exporter": "python",
   "pygments_lexer": "ipython3",
   "version": "3.9.14"
  }
 },
 "nbformat": 4,
 "nbformat_minor": 5
}
